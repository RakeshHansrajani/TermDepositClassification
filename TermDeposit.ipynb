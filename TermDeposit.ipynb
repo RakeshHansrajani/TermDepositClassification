{
 "cells": [
  {
   "cell_type": "markdown",
   "id": "MHPHXx2vckzl",
   "metadata": {
    "id": "MHPHXx2vckzl"
   },
   "source": [
    "#### Import libraries"
   ]
  },
  {
   "cell_type": "code",
   "execution_count": 5,
   "id": "aaa89b3c",
   "metadata": {
    "executionInfo": {
     "elapsed": 1735,
     "status": "ok",
     "timestamp": 1682244551435,
     "user": {
      "displayName": "Utkarsh Tiwary",
      "userId": "16741300509599874504"
     },
     "user_tz": -330
    },
    "id": "aaa89b3c"
   },
   "outputs": [],
   "source": [
    "import pandas as pd\n",
    "import numpy as np\n",
    "import matplotlib.pyplot as plt\n",
    "import seaborn as sns"
   ]
  },
  {
   "cell_type": "code",
   "execution_count": 6,
   "id": "232f17b5",
   "metadata": {
    "colab": {
     "base_uri": "https://localhost:8080/",
     "height": 299
    },
    "executionInfo": {
     "elapsed": 672,
     "status": "ok",
     "timestamp": 1682247490848,
     "user": {
      "displayName": "Utkarsh Tiwary",
      "userId": "16741300509599874504"
     },
     "user_tz": -330
    },
    "id": "232f17b5",
    "outputId": "c72165e4-96c8-4cd0-bce4-d0f9f77fcdc5"
   },
   "outputs": [
    {
     "data": {
      "text/html": [
       "<div>\n",
       "<style scoped>\n",
       "    .dataframe tbody tr th:only-of-type {\n",
       "        vertical-align: middle;\n",
       "    }\n",
       "\n",
       "    .dataframe tbody tr th {\n",
       "        vertical-align: top;\n",
       "    }\n",
       "\n",
       "    .dataframe thead th {\n",
       "        text-align: right;\n",
       "    }\n",
       "</style>\n",
       "<table border=\"1\" class=\"dataframe\">\n",
       "  <thead>\n",
       "    <tr style=\"text-align: right;\">\n",
       "      <th></th>\n",
       "      <th>age</th>\n",
       "      <th>job</th>\n",
       "      <th>marital</th>\n",
       "      <th>education</th>\n",
       "      <th>default</th>\n",
       "      <th>housing</th>\n",
       "      <th>loan</th>\n",
       "      <th>contact</th>\n",
       "      <th>month</th>\n",
       "      <th>day_of_week</th>\n",
       "      <th>...</th>\n",
       "      <th>campaign</th>\n",
       "      <th>pdays</th>\n",
       "      <th>previous</th>\n",
       "      <th>poutcome</th>\n",
       "      <th>emp.var.rate</th>\n",
       "      <th>cons.price.idx</th>\n",
       "      <th>cons.conf.idx</th>\n",
       "      <th>euribor3m</th>\n",
       "      <th>nr.employed</th>\n",
       "      <th>y</th>\n",
       "    </tr>\n",
       "  </thead>\n",
       "  <tbody>\n",
       "    <tr>\n",
       "      <th>0</th>\n",
       "      <td>56</td>\n",
       "      <td>housemaid</td>\n",
       "      <td>married</td>\n",
       "      <td>basic.4y</td>\n",
       "      <td>no</td>\n",
       "      <td>no</td>\n",
       "      <td>no</td>\n",
       "      <td>telephone</td>\n",
       "      <td>may</td>\n",
       "      <td>mon</td>\n",
       "      <td>...</td>\n",
       "      <td>1</td>\n",
       "      <td>999</td>\n",
       "      <td>0</td>\n",
       "      <td>nonexistent</td>\n",
       "      <td>1.1</td>\n",
       "      <td>93.994</td>\n",
       "      <td>-36.4</td>\n",
       "      <td>4.857</td>\n",
       "      <td>5191.0</td>\n",
       "      <td>no</td>\n",
       "    </tr>\n",
       "    <tr>\n",
       "      <th>1</th>\n",
       "      <td>57</td>\n",
       "      <td>services</td>\n",
       "      <td>married</td>\n",
       "      <td>high.school</td>\n",
       "      <td>unknown</td>\n",
       "      <td>no</td>\n",
       "      <td>no</td>\n",
       "      <td>telephone</td>\n",
       "      <td>may</td>\n",
       "      <td>mon</td>\n",
       "      <td>...</td>\n",
       "      <td>1</td>\n",
       "      <td>999</td>\n",
       "      <td>0</td>\n",
       "      <td>nonexistent</td>\n",
       "      <td>1.1</td>\n",
       "      <td>93.994</td>\n",
       "      <td>-36.4</td>\n",
       "      <td>4.857</td>\n",
       "      <td>5191.0</td>\n",
       "      <td>no</td>\n",
       "    </tr>\n",
       "    <tr>\n",
       "      <th>2</th>\n",
       "      <td>37</td>\n",
       "      <td>services</td>\n",
       "      <td>married</td>\n",
       "      <td>high.school</td>\n",
       "      <td>no</td>\n",
       "      <td>yes</td>\n",
       "      <td>no</td>\n",
       "      <td>telephone</td>\n",
       "      <td>may</td>\n",
       "      <td>mon</td>\n",
       "      <td>...</td>\n",
       "      <td>1</td>\n",
       "      <td>999</td>\n",
       "      <td>0</td>\n",
       "      <td>nonexistent</td>\n",
       "      <td>1.1</td>\n",
       "      <td>93.994</td>\n",
       "      <td>-36.4</td>\n",
       "      <td>4.857</td>\n",
       "      <td>5191.0</td>\n",
       "      <td>no</td>\n",
       "    </tr>\n",
       "    <tr>\n",
       "      <th>3</th>\n",
       "      <td>40</td>\n",
       "      <td>admin.</td>\n",
       "      <td>married</td>\n",
       "      <td>basic.6y</td>\n",
       "      <td>no</td>\n",
       "      <td>no</td>\n",
       "      <td>no</td>\n",
       "      <td>telephone</td>\n",
       "      <td>may</td>\n",
       "      <td>mon</td>\n",
       "      <td>...</td>\n",
       "      <td>1</td>\n",
       "      <td>999</td>\n",
       "      <td>0</td>\n",
       "      <td>nonexistent</td>\n",
       "      <td>1.1</td>\n",
       "      <td>93.994</td>\n",
       "      <td>-36.4</td>\n",
       "      <td>4.857</td>\n",
       "      <td>5191.0</td>\n",
       "      <td>no</td>\n",
       "    </tr>\n",
       "    <tr>\n",
       "      <th>4</th>\n",
       "      <td>56</td>\n",
       "      <td>services</td>\n",
       "      <td>married</td>\n",
       "      <td>high.school</td>\n",
       "      <td>no</td>\n",
       "      <td>no</td>\n",
       "      <td>yes</td>\n",
       "      <td>telephone</td>\n",
       "      <td>may</td>\n",
       "      <td>mon</td>\n",
       "      <td>...</td>\n",
       "      <td>1</td>\n",
       "      <td>999</td>\n",
       "      <td>0</td>\n",
       "      <td>nonexistent</td>\n",
       "      <td>1.1</td>\n",
       "      <td>93.994</td>\n",
       "      <td>-36.4</td>\n",
       "      <td>4.857</td>\n",
       "      <td>5191.0</td>\n",
       "      <td>no</td>\n",
       "    </tr>\n",
       "  </tbody>\n",
       "</table>\n",
       "<p>5 rows × 21 columns</p>\n",
       "</div>"
      ],
      "text/plain": [
       "   age        job  marital    education  default housing loan    contact  \\\n",
       "0   56  housemaid  married     basic.4y       no      no   no  telephone   \n",
       "1   57   services  married  high.school  unknown      no   no  telephone   \n",
       "2   37   services  married  high.school       no     yes   no  telephone   \n",
       "3   40     admin.  married     basic.6y       no      no   no  telephone   \n",
       "4   56   services  married  high.school       no      no  yes  telephone   \n",
       "\n",
       "  month day_of_week  ...  campaign  pdays  previous     poutcome emp.var.rate  \\\n",
       "0   may         mon  ...         1    999         0  nonexistent          1.1   \n",
       "1   may         mon  ...         1    999         0  nonexistent          1.1   \n",
       "2   may         mon  ...         1    999         0  nonexistent          1.1   \n",
       "3   may         mon  ...         1    999         0  nonexistent          1.1   \n",
       "4   may         mon  ...         1    999         0  nonexistent          1.1   \n",
       "\n",
       "   cons.price.idx  cons.conf.idx  euribor3m  nr.employed   y  \n",
       "0          93.994          -36.4      4.857       5191.0  no  \n",
       "1          93.994          -36.4      4.857       5191.0  no  \n",
       "2          93.994          -36.4      4.857       5191.0  no  \n",
       "3          93.994          -36.4      4.857       5191.0  no  \n",
       "4          93.994          -36.4      4.857       5191.0  no  \n",
       "\n",
       "[5 rows x 21 columns]"
      ]
     },
     "execution_count": 6,
     "metadata": {},
     "output_type": "execute_result"
    }
   ],
   "source": [
    "# df = pd.read_csv('bank_data.csv',sep=\";\")\n",
    "df = pd.read_csv('bank_data.csv',delimiter=';')\n",
    "df.head()"
   ]
  },
  {
   "cell_type": "code",
   "execution_count": 7,
   "id": "e4d48ecb",
   "metadata": {},
   "outputs": [],
   "source": [
    "pd.set_option('display.max_columns',None)\n",
    "pd.set_option('display.max_rows',None) "
   ]
  },
  {
   "cell_type": "code",
   "execution_count": 8,
   "id": "781334de",
   "metadata": {
    "colab": {
     "base_uri": "https://localhost:8080/"
    },
    "executionInfo": {
     "elapsed": 754,
     "status": "ok",
     "timestamp": 1682247499919,
     "user": {
      "displayName": "Utkarsh Tiwary",
      "userId": "16741300509599874504"
     },
     "user_tz": -330
    },
    "id": "781334de",
    "outputId": "8d09161b-debd-48cc-d225-9d0d901cd9f7"
   },
   "outputs": [
    {
     "data": {
      "text/plain": [
       "(41188, 21)"
      ]
     },
     "execution_count": 8,
     "metadata": {},
     "output_type": "execute_result"
    }
   ],
   "source": [
    "df.shape"
   ]
  },
  {
   "cell_type": "markdown",
   "id": "7b6693b3",
   "metadata": {
    "id": "7b6693b3"
   },
   "source": [
    "### Data Preprocessing"
   ]
  },
  {
   "cell_type": "markdown",
   "id": "efd16fe9",
   "metadata": {
    "id": "efd16fe9"
   },
   "source": [
    "#### 1) Handle Null Values"
   ]
  },
  {
   "cell_type": "code",
   "execution_count": 9,
   "id": "be3a6073",
   "metadata": {
    "colab": {
     "base_uri": "https://localhost:8080/"
    },
    "executionInfo": {
     "elapsed": 7,
     "status": "ok",
     "timestamp": 1682247503460,
     "user": {
      "displayName": "Utkarsh Tiwary",
      "userId": "16741300509599874504"
     },
     "user_tz": -330
    },
    "id": "be3a6073",
    "outputId": "4f317cfe-043d-4ed7-c20e-947f4c0c9a48"
   },
   "outputs": [
    {
     "data": {
      "text/plain": [
       "age               0\n",
       "job               0\n",
       "marital           0\n",
       "education         0\n",
       "default           0\n",
       "housing           0\n",
       "loan              0\n",
       "contact           0\n",
       "month             0\n",
       "day_of_week       0\n",
       "duration          0\n",
       "campaign          0\n",
       "pdays             0\n",
       "previous          0\n",
       "poutcome          0\n",
       "emp.var.rate      0\n",
       "cons.price.idx    0\n",
       "cons.conf.idx     0\n",
       "euribor3m         0\n",
       "nr.employed       0\n",
       "y                 0\n",
       "dtype: int64"
      ]
     },
     "execution_count": 9,
     "metadata": {},
     "output_type": "execute_result"
    }
   ],
   "source": [
    "df.isnull().sum()"
   ]
  },
  {
   "cell_type": "markdown",
   "id": "d82202ba",
   "metadata": {
    "id": "d82202ba"
   },
   "source": [
    "#### 2) Handle Duplicates"
   ]
  },
  {
   "cell_type": "code",
   "execution_count": 10,
   "id": "de662be6",
   "metadata": {
    "colab": {
     "base_uri": "https://localhost:8080/"
    },
    "executionInfo": {
     "elapsed": 11,
     "status": "ok",
     "timestamp": 1682247507364,
     "user": {
      "displayName": "Utkarsh Tiwary",
      "userId": "16741300509599874504"
     },
     "user_tz": -330
    },
    "id": "de662be6",
    "outputId": "6db2d487-ac2d-4743-be8c-c55fa1d78a25"
   },
   "outputs": [
    {
     "data": {
      "text/plain": [
       "12"
      ]
     },
     "execution_count": 10,
     "metadata": {},
     "output_type": "execute_result"
    }
   ],
   "source": [
    "df.duplicated().sum()"
   ]
  },
  {
   "cell_type": "code",
   "execution_count": 11,
   "id": "6347188d",
   "metadata": {
    "colab": {
     "base_uri": "https://localhost:8080/"
    },
    "executionInfo": {
     "elapsed": 13,
     "status": "ok",
     "timestamp": 1682247511773,
     "user": {
      "displayName": "Utkarsh Tiwary",
      "userId": "16741300509599874504"
     },
     "user_tz": -330
    },
    "id": "6347188d",
    "outputId": "8bb0eacd-d644-469b-bf97-a19196507124"
   },
   "outputs": [
    {
     "data": {
      "text/plain": [
       "0"
      ]
     },
     "execution_count": 11,
     "metadata": {},
     "output_type": "execute_result"
    }
   ],
   "source": [
    "df.drop_duplicates(inplace=True)\n",
    "df.duplicated().sum()"
   ]
  },
  {
   "cell_type": "code",
   "execution_count": 12,
   "id": "4c496fa1",
   "metadata": {
    "colab": {
     "base_uri": "https://localhost:8080/"
    },
    "executionInfo": {
     "elapsed": 18,
     "status": "ok",
     "timestamp": 1682247515238,
     "user": {
      "displayName": "Utkarsh Tiwary",
      "userId": "16741300509599874504"
     },
     "user_tz": -330
    },
    "id": "4c496fa1",
    "outputId": "648c2319-f8fa-4d74-80e3-f78eb5ff7ea5"
   },
   "outputs": [
    {
     "data": {
      "text/plain": [
       "(41176, 21)"
      ]
     },
     "execution_count": 12,
     "metadata": {},
     "output_type": "execute_result"
    }
   ],
   "source": [
    "df.shape"
   ]
  },
  {
   "cell_type": "code",
   "execution_count": 13,
   "id": "bd2a1d9a",
   "metadata": {
    "colab": {
     "base_uri": "https://localhost:8080/"
    },
    "executionInfo": {
     "elapsed": 41,
     "status": "ok",
     "timestamp": 1682247517730,
     "user": {
      "displayName": "Utkarsh Tiwary",
      "userId": "16741300509599874504"
     },
     "user_tz": -330
    },
    "id": "bd2a1d9a",
    "outputId": "753ac89c-a229-4834-ff41-c04ba9d238ae"
   },
   "outputs": [
    {
     "data": {
      "text/plain": [
       "Index(['age', 'job', 'marital', 'education', 'default', 'housing', 'loan',\n",
       "       'contact', 'month', 'day_of_week', 'duration', 'campaign', 'pdays',\n",
       "       'previous', 'poutcome', 'emp.var.rate', 'cons.price.idx',\n",
       "       'cons.conf.idx', 'euribor3m', 'nr.employed', 'y'],\n",
       "      dtype='object')"
      ]
     },
     "execution_count": 13,
     "metadata": {},
     "output_type": "execute_result"
    }
   ],
   "source": [
    "df.columns"
   ]
  },
  {
   "cell_type": "code",
   "execution_count": 14,
   "id": "084d1ee5",
   "metadata": {
    "colab": {
     "base_uri": "https://localhost:8080/"
    },
    "executionInfo": {
     "elapsed": 6,
     "status": "ok",
     "timestamp": 1682247520524,
     "user": {
      "displayName": "Utkarsh Tiwary",
      "userId": "16741300509599874504"
     },
     "user_tz": -330
    },
    "id": "084d1ee5",
    "outputId": "7e5249c8-443f-4aa4-9254-c4ba3b6f3b11"
   },
   "outputs": [
    {
     "data": {
      "text/plain": [
       "0    261\n",
       "1    149\n",
       "2    226\n",
       "3    151\n",
       "4    307\n",
       "5    198\n",
       "6    139\n",
       "7    217\n",
       "8    380\n",
       "9     50\n",
       "Name: duration, dtype: int64"
      ]
     },
     "execution_count": 14,
     "metadata": {},
     "output_type": "execute_result"
    }
   ],
   "source": [
    "df['duration'].head(10)"
   ]
  },
  {
   "cell_type": "code",
   "execution_count": 15,
   "id": "c5c75990",
   "metadata": {
    "colab": {
     "base_uri": "https://localhost:8080/"
    },
    "executionInfo": {
     "elapsed": 4,
     "status": "ok",
     "timestamp": 1682247523854,
     "user": {
      "displayName": "Utkarsh Tiwary",
      "userId": "16741300509599874504"
     },
     "user_tz": -330
    },
    "id": "c5c75990",
    "outputId": "63fbdaa9-c79b-45b4-a98c-c81ace4df78f"
   },
   "outputs": [
    {
     "data": {
      "text/plain": [
       "age                 int64\n",
       "job                object\n",
       "marital            object\n",
       "education          object\n",
       "default            object\n",
       "housing            object\n",
       "loan               object\n",
       "contact            object\n",
       "month              object\n",
       "day_of_week        object\n",
       "duration            int64\n",
       "campaign            int64\n",
       "pdays               int64\n",
       "previous            int64\n",
       "poutcome           object\n",
       "emp.var.rate      float64\n",
       "cons.price.idx    float64\n",
       "cons.conf.idx     float64\n",
       "euribor3m         float64\n",
       "nr.employed       float64\n",
       "y                  object\n",
       "dtype: object"
      ]
     },
     "execution_count": 15,
     "metadata": {},
     "output_type": "execute_result"
    }
   ],
   "source": [
    "df.dtypes"
   ]
  },
  {
   "cell_type": "code",
   "execution_count": 16,
   "id": "M1tDdFUieGvq",
   "metadata": {
    "colab": {
     "base_uri": "https://localhost:8080/"
    },
    "executionInfo": {
     "elapsed": 952,
     "status": "ok",
     "timestamp": 1682247539004,
     "user": {
      "displayName": "Utkarsh Tiwary",
      "userId": "16741300509599874504"
     },
     "user_tz": -330
    },
    "id": "M1tDdFUieGvq",
    "outputId": "58a590d4-157a-49db-c43b-13c98f050397"
   },
   "outputs": [
    {
     "name": "stdout",
     "output_type": "stream",
     "text": [
      "Index(['job', 'marital', 'education', 'default', 'housing', 'loan', 'contact',\n",
      "       'month', 'day_of_week', 'poutcome', 'y'],\n",
      "      dtype='object')\n",
      "Index(['age', 'duration', 'campaign', 'pdays', 'previous', 'emp.var.rate',\n",
      "       'cons.price.idx', 'cons.conf.idx', 'euribor3m', 'nr.employed'],\n",
      "      dtype='object')\n"
     ]
    }
   ],
   "source": [
    "cat_cols = df.dtypes[df.dtypes=='object'].index\n",
    "num_cols = df.dtypes[df.dtypes!='object'].index\n",
    "print(cat_cols)\n",
    "print(num_cols)"
   ]
  },
  {
   "cell_type": "code",
   "execution_count": 17,
   "id": "SKt0q-TBl-MJ",
   "metadata": {
    "colab": {
     "base_uri": "https://localhost:8080/"
    },
    "executionInfo": {
     "elapsed": 10,
     "status": "ok",
     "timestamp": 1682247544074,
     "user": {
      "displayName": "Utkarsh Tiwary",
      "userId": "16741300509599874504"
     },
     "user_tz": -330
    },
    "id": "SKt0q-TBl-MJ",
    "outputId": "0c237f50-2142-4bb4-c695-4ee5fb93dee4"
   },
   "outputs": [
    {
     "data": {
      "text/plain": [
       "admin.           10419\n",
       "blue-collar       9253\n",
       "technician        6739\n",
       "services          3967\n",
       "management        2924\n",
       "retired           1718\n",
       "entrepreneur      1456\n",
       "self-employed     1421\n",
       "housemaid         1060\n",
       "unemployed        1014\n",
       "student            875\n",
       "unknown            330\n",
       "Name: job, dtype: int64"
      ]
     },
     "execution_count": 17,
     "metadata": {},
     "output_type": "execute_result"
    }
   ],
   "source": [
    "df['job'].value_counts()"
   ]
  },
  {
   "cell_type": "code",
   "execution_count": 18,
   "id": "fAkZaEVtmEwT",
   "metadata": {
    "colab": {
     "base_uri": "https://localhost:8080/"
    },
    "executionInfo": {
     "elapsed": 9,
     "status": "ok",
     "timestamp": 1682247547040,
     "user": {
      "displayName": "Utkarsh Tiwary",
      "userId": "16741300509599874504"
     },
     "user_tz": -330
    },
    "id": "fAkZaEVtmEwT",
    "outputId": "6b4a0554-c1e1-4fbd-c56a-efbcb17fc3c1"
   },
   "outputs": [
    {
     "data": {
      "text/plain": [
       "married     24921\n",
       "single      11564\n",
       "divorced     4611\n",
       "unknown        80\n",
       "Name: marital, dtype: int64"
      ]
     },
     "execution_count": 18,
     "metadata": {},
     "output_type": "execute_result"
    }
   ],
   "source": [
    "df['marital'].value_counts()"
   ]
  },
  {
   "cell_type": "code",
   "execution_count": 19,
   "id": "ymQThYqOmiR2",
   "metadata": {
    "colab": {
     "base_uri": "https://localhost:8080/"
    },
    "executionInfo": {
     "elapsed": 1713,
     "status": "ok",
     "timestamp": 1682247553283,
     "user": {
      "displayName": "Utkarsh Tiwary",
      "userId": "16741300509599874504"
     },
     "user_tz": -330
    },
    "id": "ymQThYqOmiR2",
    "outputId": "58dffc61-5cd2-408c-c8e5-fd41d0a740ce"
   },
   "outputs": [
    {
     "data": {
      "text/plain": [
       "university.degree      12164\n",
       "high.school             9512\n",
       "basic.9y                6045\n",
       "professional.course     5240\n",
       "basic.4y                4176\n",
       "basic.6y                2291\n",
       "unknown                 1730\n",
       "illiterate                18\n",
       "Name: education, dtype: int64"
      ]
     },
     "execution_count": 19,
     "metadata": {},
     "output_type": "execute_result"
    }
   ],
   "source": [
    "df['education'].value_counts()"
   ]
  },
  {
   "cell_type": "code",
   "execution_count": 20,
   "id": "p2nJeuXSmncK",
   "metadata": {
    "colab": {
     "base_uri": "https://localhost:8080/"
    },
    "executionInfo": {
     "elapsed": 894,
     "status": "ok",
     "timestamp": 1682247559993,
     "user": {
      "displayName": "Utkarsh Tiwary",
      "userId": "16741300509599874504"
     },
     "user_tz": -330
    },
    "id": "p2nJeuXSmncK",
    "outputId": "d188b13c-41cf-4d04-df5c-ba34d980d27f"
   },
   "outputs": [
    {
     "data": {
      "text/plain": [
       "basic                  12512\n",
       "university.degree      12164\n",
       "high.school             9512\n",
       "professional.course     5240\n",
       "unknown                 1730\n",
       "illiterate                18\n",
       "Name: education, dtype: int64"
      ]
     },
     "execution_count": 20,
     "metadata": {},
     "output_type": "execute_result"
    }
   ],
   "source": [
    "df['education'] = df['education'].replace(['basic.9y','basic.6y','basic.4y'],'basic')\n",
    "df['education'].value_counts()"
   ]
  },
  {
   "cell_type": "code",
   "execution_count": 21,
   "id": "c1piy6MFm6u2",
   "metadata": {
    "colab": {
     "base_uri": "https://localhost:8080/"
    },
    "executionInfo": {
     "elapsed": 11,
     "status": "ok",
     "timestamp": 1682247562670,
     "user": {
      "displayName": "Utkarsh Tiwary",
      "userId": "16741300509599874504"
     },
     "user_tz": -330
    },
    "id": "c1piy6MFm6u2",
    "outputId": "b0608e01-155e-41b5-c397-ae66472a628e"
   },
   "outputs": [
    {
     "data": {
      "text/plain": [
       "no         32577\n",
       "unknown     8596\n",
       "yes            3\n",
       "Name: default, dtype: int64"
      ]
     },
     "execution_count": 21,
     "metadata": {},
     "output_type": "execute_result"
    }
   ],
   "source": [
    "df['default'].value_counts()"
   ]
  },
  {
   "cell_type": "code",
   "execution_count": 22,
   "id": "EPU9WWapnI7-",
   "metadata": {
    "colab": {
     "base_uri": "https://localhost:8080/"
    },
    "executionInfo": {
     "elapsed": 9,
     "status": "ok",
     "timestamp": 1682247565707,
     "user": {
      "displayName": "Utkarsh Tiwary",
      "userId": "16741300509599874504"
     },
     "user_tz": -330
    },
    "id": "EPU9WWapnI7-",
    "outputId": "99bf1422-2b70-4a17-cc25-72032fc3bc06"
   },
   "outputs": [
    {
     "name": "stdout",
     "output_type": "stream",
     "text": [
      "Feature :housing\n",
      "yes        21571\n",
      "no         18615\n",
      "unknown      990\n",
      "Name: housing, dtype: int64\n",
      "Feature :loan\n",
      "no         33938\n",
      "yes         6248\n",
      "unknown      990\n",
      "Name: loan, dtype: int64\n",
      "Feature :contact\n",
      "cellular     26135\n",
      "telephone    15041\n",
      "Name: contact, dtype: int64\n"
     ]
    }
   ],
   "source": [
    "for i in ['housing','loan','contact']:\n",
    "  print(f'Feature :{i}')\n",
    "  print(df[i].value_counts())"
   ]
  },
  {
   "cell_type": "markdown",
   "id": "AkCMTH6qnrBZ",
   "metadata": {
    "id": "AkCMTH6qnrBZ"
   },
   "source": [
    "### EDA"
   ]
  },
  {
   "cell_type": "code",
   "execution_count": 23,
   "id": "61JVZ7O2nahE",
   "metadata": {
    "colab": {
     "base_uri": "https://localhost:8080/",
     "height": 1000
    },
    "executionInfo": {
     "elapsed": 4293,
     "status": "ok",
     "timestamp": 1682247575385,
     "user": {
      "displayName": "Utkarsh Tiwary",
      "userId": "16741300509599874504"
     },
     "user_tz": -330
    },
    "id": "61JVZ7O2nahE",
    "outputId": "3c42fb13-bfa0-4685-f8c5-132497f0b326"
   },
   "outputs": [
    {
     "data": {
      "image/png": "[encoded data removed]",
      "text/plain": [
       "<Figure size 640x480 with 1 Axes>"
      ]
     },
     "metadata": {},
     "output_type": "display_data"
    },
    {
     "data": {
      "image/png": "[encoded data removed]",
      "text/plain": [
       "<Figure size 640x480 with 1 Axes>"
      ]
     },
     "metadata": {},
     "output_type": "display_data"
    },
    {
     "data": {
      "image/png": "[encoded data removed]",
      "text/plain": [
       "<Figure size 640x480 with 1 Axes>"
      ]
     },
     "metadata": {},
     "output_type": "display_data"
    },
    {
     "data": {
      "image/png": "[encoded data removed]",
      "text/plain": [
       "<Figure size 640x480 with 1 Axes>"
      ]
     },
     "metadata": {},
     "output_type": "display_data"
    },
    {
     "data": {
      "image/png": "[encoded data removed]",
      "text/plain": [
       "<Figure size 640x480 with 1 Axes>"
      ]
     },
     "metadata": {},
     "output_type": "display_data"
    },
    {
     "data": {
      "image/png": "[encoded data removed]",
      "text/plain": [
       "<Figure size 640x480 with 1 Axes>"
      ]
     },
     "metadata": {},
     "output_type": "display_data"
    },
    {
     "data": {
      "image/png": "[encoded data removed]",
      "text/plain": [
       "<Figure size 640x480 with 1 Axes>"
      ]
     },
     "metadata": {},
     "output_type": "display_data"
    },
    {
     "data": {
      "image/png": "[encoded data removed]",
      "text/plain": [
       "<Figure size 640x480 with 1 Axes>"
      ]
     },
     "metadata": {},
     "output_type": "display_data"
    },
    {
     "data": {
      "image/png": "[encoded data removed]",
      "text/plain": [
       "<Figure size 640x480 with 1 Axes>"
      ]
     },
     "metadata": {},
     "output_type": "display_data"
    },
    {
     "data": {
      "image/png": "[encoded data removed]",
      "text/plain": [
       "<Figure size 640x480 with 1 Axes>"
      ]
     },
     "metadata": {},
     "output_type": "display_data"
    }
   ],
   "source": [
    "for i in cat_cols[:-1]:\n",
    "  sns.countplot(y=df[i],hue=df['y'])\n",
    "  plt.show()"
   ]
  },
  {
   "cell_type": "markdown",
   "id": "pP8w7Jznn5Ns",
   "metadata": {
    "id": "pP8w7Jznn5Ns"
   },
   "source": []
  },
  {
   "cell_type": "code",
   "execution_count": 24,
   "id": "Z4lxXVE2n1Qo",
   "metadata": {
    "executionInfo": {
     "elapsed": 1406,
     "status": "ok",
     "timestamp": 1682245503115,
     "user": {
      "displayName": "Utkarsh Tiwary",
      "userId": "16741300509599874504"
     },
     "user_tz": -330
    },
    "id": "Z4lxXVE2n1Qo"
   },
   "outputs": [],
   "source": [
    "#### Correlation"
   ]
  },
  {
   "cell_type": "code",
   "execution_count": 25,
   "id": "jHaZRh9wpT1Q",
   "metadata": {
    "colab": {
     "base_uri": "https://localhost:8080/",
     "height": 1000
    },
    "executionInfo": {
     "elapsed": 1374,
     "status": "ok",
     "timestamp": 1682247584877,
     "user": {
      "displayName": "Utkarsh Tiwary",
      "userId": "16741300509599874504"
     },
     "user_tz": -330
    },
    "id": "jHaZRh9wpT1Q",
    "outputId": "0af4a641-0957-42c4-f875-d038b5485bd4"
   },
   "outputs": [
    {
     "data": {
      "image/png": "[encoded data removed]",
      "text/plain": [
       "<Figure size 1400x1400 with 2 Axes>"
      ]
     },
     "metadata": {},
     "output_type": "display_data"
    }
   ],
   "source": [
    "corr = df.corr()\n",
    "\n",
    "plt.figure(figsize=(14,14))\n",
    "sns.heatmap(corr,annot=True,cmap='RdBu')\n",
    "plt.show()"
   ]
  },
  {
   "cell_type": "code",
   "execution_count": null,
   "id": "kD1RgEF6pfYq",
   "metadata": {
    "id": "kD1RgEF6pfYq"
   },
   "outputs": [],
   "source": []
  },
  {
   "cell_type": "markdown",
   "id": "UWB5DY8vp71K",
   "metadata": {
    "id": "UWB5DY8vp71K"
   },
   "source": [
    "#### Outlier Treatment"
   ]
  },
  {
   "cell_type": "code",
   "execution_count": 26,
   "id": "5QkRumRap9jd",
   "metadata": {
    "colab": {
     "base_uri": "https://localhost:8080/",
     "height": 427
    },
    "executionInfo": {
     "elapsed": 722,
     "status": "ok",
     "timestamp": 1682247598640,
     "user": {
      "displayName": "Utkarsh Tiwary",
      "userId": "16741300509599874504"
     },
     "user_tz": -330
    },
    "id": "5QkRumRap9jd",
    "outputId": "2cb1d754-f92d-4e9e-99ef-9802b43c0aad"
   },
   "outputs": [
    {
     "data": {
      "text/html": [
       "<div>\n",
       "<style scoped>\n",
       "    .dataframe tbody tr th:only-of-type {\n",
       "        vertical-align: middle;\n",
       "    }\n",
       "\n",
       "    .dataframe tbody tr th {\n",
       "        vertical-align: top;\n",
       "    }\n",
       "\n",
       "    .dataframe thead th {\n",
       "        text-align: right;\n",
       "    }\n",
       "</style>\n",
       "<table border=\"1\" class=\"dataframe\">\n",
       "  <thead>\n",
       "    <tr style=\"text-align: right;\">\n",
       "      <th></th>\n",
       "      <th>count</th>\n",
       "      <th>mean</th>\n",
       "      <th>std</th>\n",
       "      <th>min</th>\n",
       "      <th>1%</th>\n",
       "      <th>2%</th>\n",
       "      <th>3%</th>\n",
       "      <th>5%</th>\n",
       "      <th>50%</th>\n",
       "      <th>96%</th>\n",
       "      <th>97%</th>\n",
       "      <th>98%</th>\n",
       "      <th>99%</th>\n",
       "      <th>max</th>\n",
       "    </tr>\n",
       "  </thead>\n",
       "  <tbody>\n",
       "    <tr>\n",
       "      <th>age</th>\n",
       "      <td>41176.0</td>\n",
       "      <td>40.023800</td>\n",
       "      <td>10.420680</td>\n",
       "      <td>17.000</td>\n",
       "      <td>23.000</td>\n",
       "      <td>24.000</td>\n",
       "      <td>25.000</td>\n",
       "      <td>26.000</td>\n",
       "      <td>38.000</td>\n",
       "      <td>59.000</td>\n",
       "      <td>59.000</td>\n",
       "      <td>62.000</td>\n",
       "      <td>71.000</td>\n",
       "      <td>98.000</td>\n",
       "    </tr>\n",
       "    <tr>\n",
       "      <th>duration</th>\n",
       "      <td>41176.0</td>\n",
       "      <td>258.315815</td>\n",
       "      <td>259.305321</td>\n",
       "      <td>0.000</td>\n",
       "      <td>11.000</td>\n",
       "      <td>17.000</td>\n",
       "      <td>23.000</td>\n",
       "      <td>36.000</td>\n",
       "      <td>180.000</td>\n",
       "      <td>821.000</td>\n",
       "      <td>911.000</td>\n",
       "      <td>1052.500</td>\n",
       "      <td>1271.250</td>\n",
       "      <td>4918.000</td>\n",
       "    </tr>\n",
       "    <tr>\n",
       "      <th>campaign</th>\n",
       "      <td>41176.0</td>\n",
       "      <td>2.567879</td>\n",
       "      <td>2.770318</td>\n",
       "      <td>1.000</td>\n",
       "      <td>1.000</td>\n",
       "      <td>1.000</td>\n",
       "      <td>1.000</td>\n",
       "      <td>1.000</td>\n",
       "      <td>2.000</td>\n",
       "      <td>8.000</td>\n",
       "      <td>9.000</td>\n",
       "      <td>11.000</td>\n",
       "      <td>14.000</td>\n",
       "      <td>56.000</td>\n",
       "    </tr>\n",
       "    <tr>\n",
       "      <th>pdays</th>\n",
       "      <td>41176.0</td>\n",
       "      <td>962.464810</td>\n",
       "      <td>186.937102</td>\n",
       "      <td>0.000</td>\n",
       "      <td>3.000</td>\n",
       "      <td>6.000</td>\n",
       "      <td>9.000</td>\n",
       "      <td>999.000</td>\n",
       "      <td>999.000</td>\n",
       "      <td>999.000</td>\n",
       "      <td>999.000</td>\n",
       "      <td>999.000</td>\n",
       "      <td>999.000</td>\n",
       "      <td>999.000</td>\n",
       "    </tr>\n",
       "    <tr>\n",
       "      <th>previous</th>\n",
       "      <td>41176.0</td>\n",
       "      <td>0.173013</td>\n",
       "      <td>0.494964</td>\n",
       "      <td>0.000</td>\n",
       "      <td>0.000</td>\n",
       "      <td>0.000</td>\n",
       "      <td>0.000</td>\n",
       "      <td>0.000</td>\n",
       "      <td>0.000</td>\n",
       "      <td>1.000</td>\n",
       "      <td>1.000</td>\n",
       "      <td>2.000</td>\n",
       "      <td>2.000</td>\n",
       "      <td>7.000</td>\n",
       "    </tr>\n",
       "    <tr>\n",
       "      <th>emp.var.rate</th>\n",
       "      <td>41176.0</td>\n",
       "      <td>0.081922</td>\n",
       "      <td>1.570883</td>\n",
       "      <td>-3.400</td>\n",
       "      <td>-3.400</td>\n",
       "      <td>-3.400</td>\n",
       "      <td>-3.000</td>\n",
       "      <td>-2.900</td>\n",
       "      <td>1.100</td>\n",
       "      <td>1.400</td>\n",
       "      <td>1.400</td>\n",
       "      <td>1.400</td>\n",
       "      <td>1.400</td>\n",
       "      <td>1.400</td>\n",
       "    </tr>\n",
       "    <tr>\n",
       "      <th>cons.price.idx</th>\n",
       "      <td>41176.0</td>\n",
       "      <td>93.575720</td>\n",
       "      <td>0.578839</td>\n",
       "      <td>92.201</td>\n",
       "      <td>92.201</td>\n",
       "      <td>92.379</td>\n",
       "      <td>92.431</td>\n",
       "      <td>92.713</td>\n",
       "      <td>93.749</td>\n",
       "      <td>94.465</td>\n",
       "      <td>94.465</td>\n",
       "      <td>94.465</td>\n",
       "      <td>94.465</td>\n",
       "      <td>94.767</td>\n",
       "    </tr>\n",
       "    <tr>\n",
       "      <th>cons.conf.idx</th>\n",
       "      <td>41176.0</td>\n",
       "      <td>-40.502863</td>\n",
       "      <td>4.627860</td>\n",
       "      <td>-50.800</td>\n",
       "      <td>-49.500</td>\n",
       "      <td>-47.100</td>\n",
       "      <td>-47.100</td>\n",
       "      <td>-47.100</td>\n",
       "      <td>-41.800</td>\n",
       "      <td>-31.400</td>\n",
       "      <td>-31.400</td>\n",
       "      <td>-30.100</td>\n",
       "      <td>-26.900</td>\n",
       "      <td>-26.900</td>\n",
       "    </tr>\n",
       "    <tr>\n",
       "      <th>euribor3m</th>\n",
       "      <td>41176.0</td>\n",
       "      <td>3.621293</td>\n",
       "      <td>1.734437</td>\n",
       "      <td>0.634</td>\n",
       "      <td>0.658</td>\n",
       "      <td>0.714</td>\n",
       "      <td>0.720</td>\n",
       "      <td>0.797</td>\n",
       "      <td>4.857</td>\n",
       "      <td>4.967</td>\n",
       "      <td>4.967</td>\n",
       "      <td>4.968</td>\n",
       "      <td>4.968</td>\n",
       "      <td>5.045</td>\n",
       "    </tr>\n",
       "    <tr>\n",
       "      <th>nr.employed</th>\n",
       "      <td>41176.0</td>\n",
       "      <td>5167.034870</td>\n",
       "      <td>72.251364</td>\n",
       "      <td>4963.600</td>\n",
       "      <td>4963.600</td>\n",
       "      <td>4991.600</td>\n",
       "      <td>4991.600</td>\n",
       "      <td>5017.500</td>\n",
       "      <td>5191.000</td>\n",
       "      <td>5228.100</td>\n",
       "      <td>5228.100</td>\n",
       "      <td>5228.100</td>\n",
       "      <td>5228.100</td>\n",
       "      <td>5228.100</td>\n",
       "    </tr>\n",
       "  </tbody>\n",
       "</table>\n",
       "</div>"
      ],
      "text/plain": [
       "                  count         mean         std       min        1%  \\\n",
       "age             41176.0    40.023800   10.420680    17.000    23.000   \n",
       "duration        41176.0   258.315815  259.305321     0.000    11.000   \n",
       "campaign        41176.0     2.567879    2.770318     1.000     1.000   \n",
       "pdays           41176.0   962.464810  186.937102     0.000     3.000   \n",
       "previous        41176.0     0.173013    0.494964     0.000     0.000   \n",
       "emp.var.rate    41176.0     0.081922    1.570883    -3.400    -3.400   \n",
       "cons.price.idx  41176.0    93.575720    0.578839    92.201    92.201   \n",
       "cons.conf.idx   41176.0   -40.502863    4.627860   -50.800   -49.500   \n",
       "euribor3m       41176.0     3.621293    1.734437     0.634     0.658   \n",
       "nr.employed     41176.0  5167.034870   72.251364  4963.600  4963.600   \n",
       "\n",
       "                      2%        3%        5%       50%       96%       97%  \\\n",
       "age               24.000    25.000    26.000    38.000    59.000    59.000   \n",
       "duration          17.000    23.000    36.000   180.000   821.000   911.000   \n",
       "campaign           1.000     1.000     1.000     2.000     8.000     9.000   \n",
       "pdays              6.000     9.000   999.000   999.000   999.000   999.000   \n",
       "previous           0.000     0.000     0.000     0.000     1.000     1.000   \n",
       "emp.var.rate      -3.400    -3.000    -2.900     1.100     1.400     1.400   \n",
       "cons.price.idx    92.379    92.431    92.713    93.749    94.465    94.465   \n",
       "cons.conf.idx    -47.100   -47.100   -47.100   -41.800   -31.400   -31.400   \n",
       "euribor3m          0.714     0.720     0.797     4.857     4.967     4.967   \n",
       "nr.employed     4991.600  4991.600  5017.500  5191.000  5228.100  5228.100   \n",
       "\n",
       "                     98%       99%       max  \n",
       "age               62.000    71.000    98.000  \n",
       "duration        1052.500  1271.250  4918.000  \n",
       "campaign          11.000    14.000    56.000  \n",
       "pdays            999.000   999.000   999.000  \n",
       "previous           2.000     2.000     7.000  \n",
       "emp.var.rate       1.400     1.400     1.400  \n",
       "cons.price.idx    94.465    94.465    94.767  \n",
       "cons.conf.idx    -30.100   -26.900   -26.900  \n",
       "euribor3m          4.968     4.968     5.045  \n",
       "nr.employed     5228.100  5228.100  5228.100  "
      ]
     },
     "execution_count": 26,
     "metadata": {},
     "output_type": "execute_result"
    }
   ],
   "source": [
    "df.describe(percentiles=[0.01,0.02,0.03,0.05,0.96,0.97,0.98,0.99]).T"
   ]
  },
  {
   "cell_type": "code",
   "execution_count": 27,
   "id": "NDKxw7N3qJ02",
   "metadata": {
    "colab": {
     "base_uri": "https://localhost:8080/",
     "height": 1000
    },
    "executionInfo": {
     "elapsed": 3597,
     "status": "ok",
     "timestamp": 1682247606304,
     "user": {
      "displayName": "Utkarsh Tiwary",
      "userId": "16741300509599874504"
     },
     "user_tz": -330
    },
    "id": "NDKxw7N3qJ02",
    "outputId": "0ef048d8-91bf-460a-d2a0-9585901e0475"
   },
   "outputs": [
    {
     "data": {
      "image/png": "[encoded data removed]",
      "text/plain": [
       "<Figure size 640x480 with 1 Axes>"
      ]
     },
     "metadata": {},
     "output_type": "display_data"
    },
    {
     "data": {
      "image/png": "[encoded data removed]",
      "text/plain": [
       "<Figure size 640x480 with 1 Axes>"
      ]
     },
     "metadata": {},
     "output_type": "display_data"
    },
    {
     "data": {
      "image/png": "[encoded data removed]",
      "text/plain": [
       "<Figure size 640x480 with 1 Axes>"
      ]
     },
     "metadata": {},
     "output_type": "display_data"
    },
    {
     "data": {
      "image/png": "[encoded data removed]",
      "text/plain": [
       "<Figure size 640x480 with 1 Axes>"
      ]
     },
     "metadata": {},
     "output_type": "display_data"
    },
    {
     "data": {
      "image/png": "[encoded data removed]",
      "text/plain": [
       "<Figure size 640x480 with 1 Axes>"
      ]
     },
     "metadata": {},
     "output_type": "display_data"
    },
    {
     "data": {
      "image/png": "[encoded data removed]",
      "text/plain": [
       "<Figure size 640x480 with 1 Axes>"
      ]
     },
     "metadata": {},
     "output_type": "display_data"
    },
    {
     "data": {
      "image/png": "[encoded data removed]",
      "text/plain": [
       "<Figure size 640x480 with 1 Axes>"
      ]
     },
     "metadata": {},
     "output_type": "display_data"
    },
    {
     "data": {
      "image/png": "[encoded data removed]",
      "text/plain": [
       "<Figure size 640x480 with 1 Axes>"
      ]
     },
     "metadata": {},
     "output_type": "display_data"
    },
    {
     "data": {
      "image/png": "[encoded data removed]",
      "text/plain": [
       "<Figure size 640x480 with 1 Axes>"
      ]
     },
     "metadata": {},
     "output_type": "display_data"
    },
    {
     "data": {
      "image/png": "[encoded data removed]",
      "text/plain": [
       "<Figure size 640x480 with 1 Axes>"
      ]
     },
     "metadata": {},
     "output_type": "display_data"
    }
   ],
   "source": [
    "for i in num_cols:\n",
    "  plt.title(f'Boxplot for {i}')\n",
    "  sns.boxplot(x=df[i])\n",
    "  plt.show()"
   ]
  },
  {
   "cell_type": "code",
   "execution_count": 28,
   "id": "DiYJ0vIpx5Jk",
   "metadata": {
    "executionInfo": {
     "elapsed": 1055,
     "status": "ok",
     "timestamp": 1682247759599,
     "user": {
      "displayName": "Utkarsh Tiwary",
      "userId": "16741300509599874504"
     },
     "user_tz": -330
    },
    "id": "DiYJ0vIpx5Jk"
   },
   "outputs": [],
   "source": [
    "df1 = df.copy()"
   ]
  },
  {
   "cell_type": "code",
   "execution_count": 29,
   "id": "rPHx_yZeqjfo",
   "metadata": {
    "executionInfo": {
     "elapsed": 9,
     "status": "ok",
     "timestamp": 1682247761920,
     "user": {
      "displayName": "Utkarsh Tiwary",
      "userId": "16741300509599874504"
     },
     "user_tz": -330
    },
    "id": "rPHx_yZeqjfo"
   },
   "outputs": [],
   "source": [
    "def outlier_treatment(x):\n",
    "  x = x.clip(upper=x.quantile(0.99))\n",
    "  x = x.clip(lower=x.quantile(0.01))\n",
    "  return x"
   ]
  },
  {
   "cell_type": "code",
   "execution_count": 30,
   "id": "5UOL_SwQsOyW",
   "metadata": {
    "executionInfo": {
     "elapsed": 877,
     "status": "ok",
     "timestamp": 1682247771691,
     "user": {
      "displayName": "Utkarsh Tiwary",
      "userId": "16741300509599874504"
     },
     "user_tz": -330
    },
    "id": "5UOL_SwQsOyW"
   },
   "outputs": [],
   "source": [
    "# df[out_cols] = df[out_cols].apply(outlier_treatment)\n",
    "\n",
    "out_cols = ['age','duration','campaign','previous']\n",
    "df[out_cols] = df[out_cols].apply(lambda x :  outlier_treatment(x))"
   ]
  },
  {
   "cell_type": "code",
   "execution_count": 31,
   "id": "WTrA-VvMsb4q",
   "metadata": {
    "colab": {
     "base_uri": "https://localhost:8080/",
     "height": 427
    },
    "executionInfo": {
     "elapsed": 611,
     "status": "ok",
     "timestamp": 1682247775549,
     "user": {
      "displayName": "Utkarsh Tiwary",
      "userId": "16741300509599874504"
     },
     "user_tz": -330
    },
    "id": "WTrA-VvMsb4q",
    "outputId": "748f5bee-e433-4e5d-a445-45be49f7ba40"
   },
   "outputs": [
    {
     "data": {
      "text/html": [
       "<div>\n",
       "<style scoped>\n",
       "    .dataframe tbody tr th:only-of-type {\n",
       "        vertical-align: middle;\n",
       "    }\n",
       "\n",
       "    .dataframe tbody tr th {\n",
       "        vertical-align: top;\n",
       "    }\n",
       "\n",
       "    .dataframe thead th {\n",
       "        text-align: right;\n",
       "    }\n",
       "</style>\n",
       "<table border=\"1\" class=\"dataframe\">\n",
       "  <thead>\n",
       "    <tr style=\"text-align: right;\">\n",
       "      <th></th>\n",
       "      <th>count</th>\n",
       "      <th>mean</th>\n",
       "      <th>std</th>\n",
       "      <th>min</th>\n",
       "      <th>1%</th>\n",
       "      <th>2%</th>\n",
       "      <th>3%</th>\n",
       "      <th>5%</th>\n",
       "      <th>50%</th>\n",
       "      <th>96%</th>\n",
       "      <th>97%</th>\n",
       "      <th>98%</th>\n",
       "      <th>99%</th>\n",
       "      <th>max</th>\n",
       "    </tr>\n",
       "  </thead>\n",
       "  <tbody>\n",
       "    <tr>\n",
       "      <th>age</th>\n",
       "      <td>41176.0</td>\n",
       "      <td>39.976370</td>\n",
       "      <td>10.137591</td>\n",
       "      <td>23.000</td>\n",
       "      <td>23.000</td>\n",
       "      <td>24.000</td>\n",
       "      <td>25.000</td>\n",
       "      <td>26.000</td>\n",
       "      <td>38.000</td>\n",
       "      <td>59.000</td>\n",
       "      <td>59.000</td>\n",
       "      <td>62.000</td>\n",
       "      <td>71.0000</td>\n",
       "      <td>71.000</td>\n",
       "    </tr>\n",
       "    <tr>\n",
       "      <th>duration</th>\n",
       "      <td>41176.0</td>\n",
       "      <td>254.410652</td>\n",
       "      <td>235.211228</td>\n",
       "      <td>11.000</td>\n",
       "      <td>11.000</td>\n",
       "      <td>17.000</td>\n",
       "      <td>23.000</td>\n",
       "      <td>36.000</td>\n",
       "      <td>180.000</td>\n",
       "      <td>821.000</td>\n",
       "      <td>911.000</td>\n",
       "      <td>1052.500</td>\n",
       "      <td>1271.0625</td>\n",
       "      <td>1271.250</td>\n",
       "    </tr>\n",
       "    <tr>\n",
       "      <th>campaign</th>\n",
       "      <td>41176.0</td>\n",
       "      <td>2.500291</td>\n",
       "      <td>2.301416</td>\n",
       "      <td>1.000</td>\n",
       "      <td>1.000</td>\n",
       "      <td>1.000</td>\n",
       "      <td>1.000</td>\n",
       "      <td>1.000</td>\n",
       "      <td>2.000</td>\n",
       "      <td>8.000</td>\n",
       "      <td>9.000</td>\n",
       "      <td>11.000</td>\n",
       "      <td>14.0000</td>\n",
       "      <td>14.000</td>\n",
       "    </tr>\n",
       "    <tr>\n",
       "      <th>pdays</th>\n",
       "      <td>41176.0</td>\n",
       "      <td>962.464810</td>\n",
       "      <td>186.937102</td>\n",
       "      <td>0.000</td>\n",
       "      <td>3.000</td>\n",
       "      <td>6.000</td>\n",
       "      <td>9.000</td>\n",
       "      <td>999.000</td>\n",
       "      <td>999.000</td>\n",
       "      <td>999.000</td>\n",
       "      <td>999.000</td>\n",
       "      <td>999.000</td>\n",
       "      <td>999.0000</td>\n",
       "      <td>999.000</td>\n",
       "    </tr>\n",
       "    <tr>\n",
       "      <th>previous</th>\n",
       "      <td>41176.0</td>\n",
       "      <td>0.162449</td>\n",
       "      <td>0.433295</td>\n",
       "      <td>0.000</td>\n",
       "      <td>0.000</td>\n",
       "      <td>0.000</td>\n",
       "      <td>0.000</td>\n",
       "      <td>0.000</td>\n",
       "      <td>0.000</td>\n",
       "      <td>1.000</td>\n",
       "      <td>1.000</td>\n",
       "      <td>2.000</td>\n",
       "      <td>2.0000</td>\n",
       "      <td>2.000</td>\n",
       "    </tr>\n",
       "    <tr>\n",
       "      <th>emp.var.rate</th>\n",
       "      <td>41176.0</td>\n",
       "      <td>0.081922</td>\n",
       "      <td>1.570883</td>\n",
       "      <td>-3.400</td>\n",
       "      <td>-3.400</td>\n",
       "      <td>-3.400</td>\n",
       "      <td>-3.000</td>\n",
       "      <td>-2.900</td>\n",
       "      <td>1.100</td>\n",
       "      <td>1.400</td>\n",
       "      <td>1.400</td>\n",
       "      <td>1.400</td>\n",
       "      <td>1.4000</td>\n",
       "      <td>1.400</td>\n",
       "    </tr>\n",
       "    <tr>\n",
       "      <th>cons.price.idx</th>\n",
       "      <td>41176.0</td>\n",
       "      <td>93.575720</td>\n",
       "      <td>0.578839</td>\n",
       "      <td>92.201</td>\n",
       "      <td>92.201</td>\n",
       "      <td>92.379</td>\n",
       "      <td>92.431</td>\n",
       "      <td>92.713</td>\n",
       "      <td>93.749</td>\n",
       "      <td>94.465</td>\n",
       "      <td>94.465</td>\n",
       "      <td>94.465</td>\n",
       "      <td>94.4650</td>\n",
       "      <td>94.767</td>\n",
       "    </tr>\n",
       "    <tr>\n",
       "      <th>cons.conf.idx</th>\n",
       "      <td>41176.0</td>\n",
       "      <td>-40.502863</td>\n",
       "      <td>4.627860</td>\n",
       "      <td>-50.800</td>\n",
       "      <td>-49.500</td>\n",
       "      <td>-47.100</td>\n",
       "      <td>-47.100</td>\n",
       "      <td>-47.100</td>\n",
       "      <td>-41.800</td>\n",
       "      <td>-31.400</td>\n",
       "      <td>-31.400</td>\n",
       "      <td>-30.100</td>\n",
       "      <td>-26.9000</td>\n",
       "      <td>-26.900</td>\n",
       "    </tr>\n",
       "    <tr>\n",
       "      <th>euribor3m</th>\n",
       "      <td>41176.0</td>\n",
       "      <td>3.621293</td>\n",
       "      <td>1.734437</td>\n",
       "      <td>0.634</td>\n",
       "      <td>0.658</td>\n",
       "      <td>0.714</td>\n",
       "      <td>0.720</td>\n",
       "      <td>0.797</td>\n",
       "      <td>4.857</td>\n",
       "      <td>4.967</td>\n",
       "      <td>4.967</td>\n",
       "      <td>4.968</td>\n",
       "      <td>4.9680</td>\n",
       "      <td>5.045</td>\n",
       "    </tr>\n",
       "    <tr>\n",
       "      <th>nr.employed</th>\n",
       "      <td>41176.0</td>\n",
       "      <td>5167.034870</td>\n",
       "      <td>72.251364</td>\n",
       "      <td>4963.600</td>\n",
       "      <td>4963.600</td>\n",
       "      <td>4991.600</td>\n",
       "      <td>4991.600</td>\n",
       "      <td>5017.500</td>\n",
       "      <td>5191.000</td>\n",
       "      <td>5228.100</td>\n",
       "      <td>5228.100</td>\n",
       "      <td>5228.100</td>\n",
       "      <td>5228.1000</td>\n",
       "      <td>5228.100</td>\n",
       "    </tr>\n",
       "  </tbody>\n",
       "</table>\n",
       "</div>"
      ],
      "text/plain": [
       "                  count         mean         std       min        1%  \\\n",
       "age             41176.0    39.976370   10.137591    23.000    23.000   \n",
       "duration        41176.0   254.410652  235.211228    11.000    11.000   \n",
       "campaign        41176.0     2.500291    2.301416     1.000     1.000   \n",
       "pdays           41176.0   962.464810  186.937102     0.000     3.000   \n",
       "previous        41176.0     0.162449    0.433295     0.000     0.000   \n",
       "emp.var.rate    41176.0     0.081922    1.570883    -3.400    -3.400   \n",
       "cons.price.idx  41176.0    93.575720    0.578839    92.201    92.201   \n",
       "cons.conf.idx   41176.0   -40.502863    4.627860   -50.800   -49.500   \n",
       "euribor3m       41176.0     3.621293    1.734437     0.634     0.658   \n",
       "nr.employed     41176.0  5167.034870   72.251364  4963.600  4963.600   \n",
       "\n",
       "                      2%        3%        5%       50%       96%       97%  \\\n",
       "age               24.000    25.000    26.000    38.000    59.000    59.000   \n",
       "duration          17.000    23.000    36.000   180.000   821.000   911.000   \n",
       "campaign           1.000     1.000     1.000     2.000     8.000     9.000   \n",
       "pdays              6.000     9.000   999.000   999.000   999.000   999.000   \n",
       "previous           0.000     0.000     0.000     0.000     1.000     1.000   \n",
       "emp.var.rate      -3.400    -3.000    -2.900     1.100     1.400     1.400   \n",
       "cons.price.idx    92.379    92.431    92.713    93.749    94.465    94.465   \n",
       "cons.conf.idx    -47.100   -47.100   -47.100   -41.800   -31.400   -31.400   \n",
       "euribor3m          0.714     0.720     0.797     4.857     4.967     4.967   \n",
       "nr.employed     4991.600  4991.600  5017.500  5191.000  5228.100  5228.100   \n",
       "\n",
       "                     98%        99%       max  \n",
       "age               62.000    71.0000    71.000  \n",
       "duration        1052.500  1271.0625  1271.250  \n",
       "campaign          11.000    14.0000    14.000  \n",
       "pdays            999.000   999.0000   999.000  \n",
       "previous           2.000     2.0000     2.000  \n",
       "emp.var.rate       1.400     1.4000     1.400  \n",
       "cons.price.idx    94.465    94.4650    94.767  \n",
       "cons.conf.idx    -30.100   -26.9000   -26.900  \n",
       "euribor3m          4.968     4.9680     5.045  \n",
       "nr.employed     5228.100  5228.1000  5228.100  "
      ]
     },
     "execution_count": 31,
     "metadata": {},
     "output_type": "execute_result"
    }
   ],
   "source": [
    "df.describe(percentiles=[0.01,0.02,0.03,0.05,0.96,0.97,0.98,0.99]).T"
   ]
  },
  {
   "cell_type": "code",
   "execution_count": null,
   "id": "0JOx7ReksgqU",
   "metadata": {
    "id": "0JOx7ReksgqU"
   },
   "outputs": [],
   "source": []
  },
  {
   "cell_type": "code",
   "execution_count": 32,
   "id": "AQ1vLKjjtllK",
   "metadata": {
    "executionInfo": {
     "elapsed": 31,
     "status": "ok",
     "timestamp": 1682247243093,
     "user": {
      "displayName": "Utkarsh Tiwary",
      "userId": "16741300509599874504"
     },
     "user_tz": -330
    },
    "id": "AQ1vLKjjtllK"
   },
   "outputs": [],
   "source": [
    "# df_dum = pd.get_dummies(df,columns=cat_cols[:-1],drop_first=True)\n",
    "# print(len(df_dum.columns))\n",
    "# print(df_dum.columns)"
   ]
  },
  {
   "cell_type": "code",
   "execution_count": 33,
   "id": "TG_VuORDwK7c",
   "metadata": {
    "executionInfo": {
     "elapsed": 851,
     "status": "ok",
     "timestamp": 1682247781509,
     "user": {
      "displayName": "Utkarsh Tiwary",
      "userId": "16741300509599874504"
     },
     "user_tz": -330
    },
    "id": "TG_VuORDwK7c"
   },
   "outputs": [],
   "source": [
    "# df1 = df.copy()"
   ]
  },
  {
   "cell_type": "code",
   "execution_count": 34,
   "id": "ckvc9apGv9vW",
   "metadata": {
    "executionInfo": {
     "elapsed": 812,
     "status": "ok",
     "timestamp": 1682247793952,
     "user": {
      "displayName": "Utkarsh Tiwary",
      "userId": "16741300509599874504"
     },
     "user_tz": -330
    },
    "id": "ckvc9apGv9vW"
   },
   "outputs": [],
   "source": [
    "from sklearn.preprocessing import LabelEncoder\n",
    "lb = LabelEncoder()\n",
    "for i in cat_cols[:-1]:\n",
    "  df[i] = lb.fit_transform(df[i])"
   ]
  },
  {
   "cell_type": "code",
   "execution_count": 35,
   "id": "9LX9cUFGyFh5",
   "metadata": {
    "colab": {
     "base_uri": "https://localhost:8080/"
    },
    "executionInfo": {
     "elapsed": 2703,
     "status": "ok",
     "timestamp": 1682247807539,
     "user": {
      "displayName": "Utkarsh Tiwary",
      "userId": "16741300509599874504"
     },
     "user_tz": -330
    },
    "id": "9LX9cUFGyFh5",
    "outputId": "d2d3da01-0dee-487e-a37b-9c5e59b99c7f"
   },
   "outputs": [
    {
     "data": {
      "text/plain": [
       "age               float64\n",
       "job                 int32\n",
       "marital             int32\n",
       "education           int32\n",
       "default             int32\n",
       "housing             int32\n",
       "loan                int32\n",
       "contact             int32\n",
       "month               int32\n",
       "day_of_week         int32\n",
       "duration          float64\n",
       "campaign          float64\n",
       "pdays               int64\n",
       "previous          float64\n",
       "poutcome            int32\n",
       "emp.var.rate      float64\n",
       "cons.price.idx    float64\n",
       "cons.conf.idx     float64\n",
       "euribor3m         float64\n",
       "nr.employed       float64\n",
       "y                  object\n",
       "dtype: object"
      ]
     },
     "execution_count": 35,
     "metadata": {},
     "output_type": "execute_result"
    }
   ],
   "source": [
    "df.dtypes"
   ]
  },
  {
   "cell_type": "code",
   "execution_count": 36,
   "id": "9fvYHxxqtL-x",
   "metadata": {
    "colab": {
     "base_uri": "https://localhost:8080/"
    },
    "executionInfo": {
     "elapsed": 753,
     "status": "ok",
     "timestamp": 1682247817879,
     "user": {
      "displayName": "Utkarsh Tiwary",
      "userId": "16741300509599874504"
     },
     "user_tz": -330
    },
    "id": "9fvYHxxqtL-x",
    "outputId": "eaed7727-5976-40ee-ae31-9d24a85fe46c"
   },
   "outputs": [
    {
     "name": "stdout",
     "output_type": "stream",
     "text": [
      "(41176, 20)\n",
      "(41176,)\n"
     ]
    }
   ],
   "source": [
    "x = df.drop('y',axis=1)\n",
    "y = df['y']\n",
    "print(x.shape)\n",
    "print(y.shape)"
   ]
  },
  {
   "cell_type": "code",
   "execution_count": 37,
   "id": "RtpQKaSFvAtL",
   "metadata": {
    "colab": {
     "base_uri": "https://localhost:8080/"
    },
    "executionInfo": {
     "elapsed": 1147,
     "status": "ok",
     "timestamp": 1682247822273,
     "user": {
      "displayName": "Utkarsh Tiwary",
      "userId": "16741300509599874504"
     },
     "user_tz": -330
    },
    "id": "RtpQKaSFvAtL",
    "outputId": "f98a4700-1b26-4fb7-cf5f-e2ff377ab695"
   },
   "outputs": [
    {
     "name": "stdout",
     "output_type": "stream",
     "text": [
      "(28823, 20)\n",
      "(12353, 20)\n",
      "(28823,)\n",
      "(12353,)\n"
     ]
    }
   ],
   "source": [
    "from sklearn.model_selection import train_test_split\n",
    "x_train,x_test,y_train,y_test = train_test_split(x,y,test_size=0.30,random_state=42)\n",
    "print(x_train.shape)\n",
    "print(x_test.shape)\n",
    "print(y_train.shape)\n",
    "print(y_test.shape)"
   ]
  },
  {
   "cell_type": "code",
   "execution_count": 38,
   "id": "2x6RgYv9tWOw",
   "metadata": {
    "colab": {
     "base_uri": "https://localhost:8080/",
     "height": 74
    },
    "executionInfo": {
     "elapsed": 3326,
     "status": "ok",
     "timestamp": 1682247829480,
     "user": {
      "displayName": "Utkarsh Tiwary",
      "userId": "16741300509599874504"
     },
     "user_tz": -330
    },
    "id": "2x6RgYv9tWOw",
    "outputId": "1e57ecb7-fc75-49b6-d649-e233c21f13ab"
   },
   "outputs": [
    {
     "data": {
      "text/plain": [
       "RandomForestClassifier()"
      ]
     },
     "execution_count": 38,
     "metadata": {},
     "output_type": "execute_result"
    }
   ],
   "source": [
    "from sklearn.ensemble import RandomForestClassifier\n",
    "rf = RandomForestClassifier()\n",
    "rf.fit(x_train,y_train)"
   ]
  },
  {
   "cell_type": "code",
   "execution_count": 39,
   "id": "_j9cYhYmtWT1",
   "metadata": {
    "colab": {
     "base_uri": "https://localhost:8080/",
     "height": 677
    },
    "executionInfo": {
     "elapsed": 887,
     "status": "ok",
     "timestamp": 1682248138192,
     "user": {
      "displayName": "Utkarsh Tiwary",
      "userId": "16741300509599874504"
     },
     "user_tz": -330
    },
    "id": "_j9cYhYmtWT1",
    "outputId": "05d86a7b-c278-45ec-ac4a-fe79f54bd0ad"
   },
   "outputs": [
    {
     "data": {
      "text/html": [
       "<div>\n",
       "<style scoped>\n",
       "    .dataframe tbody tr th:only-of-type {\n",
       "        vertical-align: middle;\n",
       "    }\n",
       "\n",
       "    .dataframe tbody tr th {\n",
       "        vertical-align: top;\n",
       "    }\n",
       "\n",
       "    .dataframe thead th {\n",
       "        text-align: right;\n",
       "    }\n",
       "</style>\n",
       "<table border=\"1\" class=\"dataframe\">\n",
       "  <thead>\n",
       "    <tr style=\"text-align: right;\">\n",
       "      <th></th>\n",
       "      <th>Feature</th>\n",
       "      <th>Imp</th>\n",
       "    </tr>\n",
       "  </thead>\n",
       "  <tbody>\n",
       "    <tr>\n",
       "      <th>10</th>\n",
       "      <td>duration</td>\n",
       "      <td>0.318858</td>\n",
       "    </tr>\n",
       "    <tr>\n",
       "      <th>18</th>\n",
       "      <td>euribor3m</td>\n",
       "      <td>0.110406</td>\n",
       "    </tr>\n",
       "    <tr>\n",
       "      <th>0</th>\n",
       "      <td>age</td>\n",
       "      <td>0.089406</td>\n",
       "    </tr>\n",
       "    <tr>\n",
       "      <th>19</th>\n",
       "      <td>nr.employed</td>\n",
       "      <td>0.057115</td>\n",
       "    </tr>\n",
       "    <tr>\n",
       "      <th>1</th>\n",
       "      <td>job</td>\n",
       "      <td>0.049060</td>\n",
       "    </tr>\n",
       "    <tr>\n",
       "      <th>11</th>\n",
       "      <td>campaign</td>\n",
       "      <td>0.042498</td>\n",
       "    </tr>\n",
       "    <tr>\n",
       "      <th>9</th>\n",
       "      <td>day_of_week</td>\n",
       "      <td>0.042463</td>\n",
       "    </tr>\n",
       "    <tr>\n",
       "      <th>3</th>\n",
       "      <td>education</td>\n",
       "      <td>0.038035</td>\n",
       "    </tr>\n",
       "    <tr>\n",
       "      <th>12</th>\n",
       "      <td>pdays</td>\n",
       "      <td>0.036509</td>\n",
       "    </tr>\n",
       "    <tr>\n",
       "      <th>14</th>\n",
       "      <td>poutcome</td>\n",
       "      <td>0.031279</td>\n",
       "    </tr>\n",
       "    <tr>\n",
       "      <th>17</th>\n",
       "      <td>cons.conf.idx</td>\n",
       "      <td>0.027975</td>\n",
       "    </tr>\n",
       "    <tr>\n",
       "      <th>2</th>\n",
       "      <td>marital</td>\n",
       "      <td>0.024411</td>\n",
       "    </tr>\n",
       "    <tr>\n",
       "      <th>15</th>\n",
       "      <td>emp.var.rate</td>\n",
       "      <td>0.023527</td>\n",
       "    </tr>\n",
       "    <tr>\n",
       "      <th>16</th>\n",
       "      <td>cons.price.idx</td>\n",
       "      <td>0.023184</td>\n",
       "    </tr>\n",
       "    <tr>\n",
       "      <th>5</th>\n",
       "      <td>housing</td>\n",
       "      <td>0.021018</td>\n",
       "    </tr>\n",
       "    <tr>\n",
       "      <th>8</th>\n",
       "      <td>month</td>\n",
       "      <td>0.018512</td>\n",
       "    </tr>\n",
       "    <tr>\n",
       "      <th>6</th>\n",
       "      <td>loan</td>\n",
       "      <td>0.015177</td>\n",
       "    </tr>\n",
       "    <tr>\n",
       "      <th>13</th>\n",
       "      <td>previous</td>\n",
       "      <td>0.011497</td>\n",
       "    </tr>\n",
       "    <tr>\n",
       "      <th>7</th>\n",
       "      <td>contact</td>\n",
       "      <td>0.010130</td>\n",
       "    </tr>\n",
       "    <tr>\n",
       "      <th>4</th>\n",
       "      <td>default</td>\n",
       "      <td>0.008940</td>\n",
       "    </tr>\n",
       "  </tbody>\n",
       "</table>\n",
       "</div>"
      ],
      "text/plain": [
       "           Feature       Imp\n",
       "10        duration  0.318858\n",
       "18       euribor3m  0.110406\n",
       "0              age  0.089406\n",
       "19     nr.employed  0.057115\n",
       "1              job  0.049060\n",
       "11        campaign  0.042498\n",
       "9      day_of_week  0.042463\n",
       "3        education  0.038035\n",
       "12           pdays  0.036509\n",
       "14        poutcome  0.031279\n",
       "17   cons.conf.idx  0.027975\n",
       "2          marital  0.024411\n",
       "15    emp.var.rate  0.023527\n",
       "16  cons.price.idx  0.023184\n",
       "5          housing  0.021018\n",
       "8            month  0.018512\n",
       "6             loan  0.015177\n",
       "13        previous  0.011497\n",
       "7          contact  0.010130\n",
       "4          default  0.008940"
      ]
     },
     "execution_count": 39,
     "metadata": {},
     "output_type": "execute_result"
    }
   ],
   "source": [
    "fimp = pd.DataFrame({'Feature' : x.columns,'Imp' : rf.feature_importances_})\n",
    "fimp = fimp.sort_values('Imp',ascending=False)\n",
    "fimp"
   ]
  },
  {
   "cell_type": "code",
   "execution_count": 40,
   "id": "LrtFnW9rtMBY",
   "metadata": {
    "colab": {
     "base_uri": "https://localhost:8080/"
    },
    "executionInfo": {
     "elapsed": 12,
     "status": "ok",
     "timestamp": 1682248271488,
     "user": {
      "displayName": "Utkarsh Tiwary",
      "userId": "16741300509599874504"
     },
     "user_tz": -330
    },
    "id": "LrtFnW9rtMBY",
    "outputId": "4bedddd2-35e2-4ac6-e565-b5d412ad0fd3"
   },
   "outputs": [
    {
     "name": "stdout",
     "output_type": "stream",
     "text": [
      "['duration' 'euribor3m' 'age' 'nr.employed' 'job' 'campaign' 'day_of_week'\n",
      " 'education' 'pdays' 'poutcome' 'cons.conf.idx' 'marital' 'emp.var.rate'\n",
      " 'cons.price.idx' 'housing']\n"
     ]
    }
   ],
   "source": [
    "sig_feat = fimp['Feature'][fimp['Imp']>=0.02].values\n",
    "print(sig_feat)"
   ]
  },
  {
   "cell_type": "markdown",
   "id": "iO9W6LH2z689",
   "metadata": {
    "id": "iO9W6LH2z689"
   },
   "source": [
    "#### SVM Model Building"
   ]
  },
  {
   "cell_type": "code",
   "execution_count": 41,
   "id": "CEx6ZiCTtFL4",
   "metadata": {
    "colab": {
     "base_uri": "https://localhost:8080/"
    },
    "executionInfo": {
     "elapsed": 853,
     "status": "ok",
     "timestamp": 1682248368687,
     "user": {
      "displayName": "Utkarsh Tiwary",
      "userId": "16741300509599874504"
     },
     "user_tz": -330
    },
    "id": "CEx6ZiCTtFL4",
    "outputId": "145575be-4a5d-4aa6-8641-75ca93ff550b"
   },
   "outputs": [
    {
     "name": "stdout",
     "output_type": "stream",
     "text": [
      "(41176, 15)\n",
      "(41176,)\n"
     ]
    }
   ],
   "source": [
    "x1 = df[sig_feat]\n",
    "y1 = df['y']\n",
    "print(x1.shape)\n",
    "print(y1.shape)"
   ]
  },
  {
   "cell_type": "code",
   "execution_count": 42,
   "id": "TXZ_TE_60GCC",
   "metadata": {
    "colab": {
     "base_uri": "https://localhost:8080/"
    },
    "executionInfo": {
     "elapsed": 933,
     "status": "ok",
     "timestamp": 1682248373492,
     "user": {
      "displayName": "Utkarsh Tiwary",
      "userId": "16741300509599874504"
     },
     "user_tz": -330
    },
    "id": "TXZ_TE_60GCC",
    "outputId": "3e3c4cec-43a7-4d54-af41-ef0c75f3b9b0"
   },
   "outputs": [
    {
     "name": "stdout",
     "output_type": "stream",
     "text": [
      "(28823, 15)\n",
      "(12353, 15)\n",
      "(28823,)\n",
      "(12353,)\n"
     ]
    }
   ],
   "source": [
    "x_train1,x_test1,y_train1,y_test1 = train_test_split(x1,y1,test_size=0.30,random_state=42)\n",
    "print(x_train1.shape)\n",
    "print(x_test1.shape)\n",
    "print(y_train1.shape)\n",
    "print(y_test1.shape)"
   ]
  },
  {
   "cell_type": "code",
   "execution_count": 43,
   "id": "JQUodBgS0QQs",
   "metadata": {
    "executionInfo": {
     "elapsed": 591,
     "status": "ok",
     "timestamp": 1682248381175,
     "user": {
      "displayName": "Utkarsh Tiwary",
      "userId": "16741300509599874504"
     },
     "user_tz": -330
    },
    "id": "JQUodBgS0QQs"
   },
   "outputs": [],
   "source": [
    "from sklearn.svm import SVC"
   ]
  },
  {
   "cell_type": "code",
   "execution_count": 44,
   "id": "7oqUho1P0Sfx",
   "metadata": {
    "colab": {
     "base_uri": "https://localhost:8080/",
     "height": 74
    },
    "executionInfo": {
     "elapsed": 38870,
     "status": "ok",
     "timestamp": 1682248459400,
     "user": {
      "displayName": "Utkarsh Tiwary",
      "userId": "16741300509599874504"
     },
     "user_tz": -330
    },
    "id": "7oqUho1P0Sfx",
    "outputId": "2f913f66-84c1-4de8-9910-558e6a568708"
   },
   "outputs": [
    {
     "data": {
      "text/plain": [
       "SVC(kernel='linear')"
      ]
     },
     "execution_count": 44,
     "metadata": {},
     "output_type": "execute_result"
    }
   ],
   "source": [
    "m1= SVC(kernel='linear')\n",
    "m1.fit(x_train1,y_train1)"
   ]
  },
  {
   "cell_type": "code",
   "execution_count": 45,
   "id": "GGvBKE4f0cOq",
   "metadata": {
    "executionInfo": {
     "elapsed": 1489,
     "status": "ok",
     "timestamp": 1682248618793,
     "user": {
      "displayName": "Utkarsh Tiwary",
      "userId": "16741300509599874504"
     },
     "user_tz": -330
    },
    "id": "GGvBKE4f0cOq"
   },
   "outputs": [],
   "source": [
    "from sklearn.metrics import confusion_matrix,classification_report,accuracy_score"
   ]
  },
  {
   "cell_type": "code",
   "execution_count": 46,
   "id": "CvPtd9Ur0i06",
   "metadata": {
    "executionInfo": {
     "elapsed": 868,
     "status": "ok",
     "timestamp": 1682248569504,
     "user": {
      "displayName": "Utkarsh Tiwary",
      "userId": "16741300509599874504"
     },
     "user_tz": -330
    },
    "id": "CvPtd9Ur0i06"
   },
   "outputs": [],
   "source": [
    "def gen_metrics(model,x_train,x_test,y_train,y_test):\n",
    "    model.fit(x_train,y_train)\n",
    "    train_score = model.score(x_train,y_train)\n",
    "    test_score = model.score(x_test,y_test)\n",
    "    y_pred = model.predict(x_test)\n",
    "    acc = accuracy_score(y_test,y_pred)\n",
    "    print('Prediction\\n',y_pred)\n",
    "    print('Training score',train_score)\n",
    "    print('Testing score',test_score)\n",
    "    print('Accuracy_Score',acc)\n",
    "    cm = confusion_matrix(y_test,y_pred)\n",
    "    print('Confusion Matrix\\n',cm)\n",
    "    print('Classification Report\\n',classification_report(y_test,y_pred))\n"
   ]
  },
  {
   "cell_type": "code",
   "execution_count": 47,
   "id": "1mBn4JnI0tho",
   "metadata": {
    "colab": {
     "base_uri": "https://localhost:8080/"
    },
    "executionInfo": {
     "elapsed": 38721,
     "status": "ok",
     "timestamp": 1682248662828,
     "user": {
      "displayName": "Utkarsh Tiwary",
      "userId": "16741300509599874504"
     },
     "user_tz": -330
    },
    "id": "1mBn4JnI0tho",
    "outputId": "1467a995-c5e7-4664-9449-2261fe759cba"
   },
   "outputs": [
    {
     "name": "stdout",
     "output_type": "stream",
     "text": [
      "Prediction\n",
      " ['yes' 'no' 'no' ... 'no' 'no' 'no']\n",
      "Training score 0.9060125594143565\n",
      "Testing score 0.9028576054399741\n",
      "Accuracy_Score 0.9028576054399741\n",
      "Confusion Matrix\n",
      " [[10663   266]\n",
      " [  934   490]]\n",
      "Classification Report\n",
      "               precision    recall  f1-score   support\n",
      "\n",
      "          no       0.92      0.98      0.95     10929\n",
      "         yes       0.65      0.34      0.45      1424\n",
      "\n",
      "    accuracy                           0.90     12353\n",
      "   macro avg       0.78      0.66      0.70     12353\n",
      "weighted avg       0.89      0.90      0.89     12353\n",
      "\n"
     ]
    }
   ],
   "source": [
    "m1= SVC(kernel='linear')\n",
    "gen_metrics(m1,x_train1,x_test1,y_train1,y_test1)"
   ]
  },
  {
   "cell_type": "code",
   "execution_count": 48,
   "id": "lQM_EQRN1CIF",
   "metadata": {
    "executionInfo": {
     "elapsed": 9,
     "status": "ok",
     "timestamp": 1682248792875,
     "user": {
      "displayName": "Utkarsh Tiwary",
      "userId": "16741300509599874504"
     },
     "user_tz": -330
    },
    "id": "lQM_EQRN1CIF"
   },
   "outputs": [],
   "source": [
    "from sklearn.model_selection import GridSearchCV"
   ]
  },
  {
   "cell_type": "code",
   "execution_count": 49,
   "id": "1F2zku_313Kp",
   "metadata": {
    "executionInfo": {
     "elapsed": 723,
     "status": "ok",
     "timestamp": 1682248886125,
     "user": {
      "displayName": "Utkarsh Tiwary",
      "userId": "16741300509599874504"
     },
     "user_tz": -330
    },
    "id": "1F2zku_313Kp"
   },
   "outputs": [],
   "source": [
    "hparams_svm = {'kernel':['linear','poly','rbf'],\n",
    "               'C':[0.001,0.01,0.1,1,10],\n",
    "               'degree':[2,3,4],\n",
    "               'gamma':[0.001,0.01,0.1,1,10]}"
   ]
  },
  {
   "cell_type": "code",
   "execution_count": null,
   "id": "0JKJPS6e2G9y",
   "metadata": {
    "id": "0JKJPS6e2G9y"
   },
   "outputs": [],
   "source": [
    "base_model = SVC()\n",
    "\n",
    "gs = GridSearchCV(base_model,param_grid=hparams_svm,scoring='accuracy',cv=5)\n",
    "gs.fit(x_train1,y_train1)"
   ]
  }
 ],
 "metadata": {
  "accelerator": "GPU",
  "colab": {
   "provenance": []
  },
  "gpuClass": "standard",
  "kernelspec": {
   "display_name": "Python 3 (ipykernel)",
   "language": "python",
   "name": "python3"
  },
  "language_info": {
   "codemirror_mode": {
    "name": "ipython",
    "version": 3
   },
   "file_extension": ".py",
   "mimetype": "text/x-python",
   "name": "python",
   "nbconvert_exporter": "python",
   "pygments_lexer": "ipython3",
   "version": "3.9.13"
  }
 },
 "nbformat": 4,
 "nbformat_minor": 5
}
